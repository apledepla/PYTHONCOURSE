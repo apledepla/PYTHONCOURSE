{
 "cells": [
  {
   "cell_type": "code",
   "execution_count": 56,
   "id": "ea527d8d",
   "metadata": {},
   "outputs": [
    {
     "name": "stdout",
     "output_type": "stream",
     "text": [
      "Enter a number for point(x): 150\n",
      "Enter a number for point(y): 50\n",
      "Enter a number for rectangle bottom corner(x): 150\n",
      "Enter a number for rectangle bottom corner(y): 50\n",
      "Enter a number for rectangle height: 25\n",
      "Enter a number for rectangle width: 75\n",
      "A. True\n",
      "B. False\n",
      "C. True\n"
     ]
    }
   ],
   "source": [
    "class Point:\n",
    "    pointx=0\n",
    "    pointy=0\n",
    "\n",
    "class Circle:\n",
    "    def __init__(self,h,k,r):\n",
    "        self.h=h\n",
    "        self.k=k\n",
    "        self.r=r\n",
    "        \n",
    "class Rectangle:\n",
    "    botx=0\n",
    "    boty=0\n",
    "    height=0\n",
    "    width=0\n",
    "        \n",
    "circle=Circle(150,100,75)\n",
    "r=Rectangle()\n",
    "\n",
    "p=Point()\n",
    "p.pointx=float(input('Enter a number for point(x): '))\n",
    "p.pointy=float(input('Enter a number for point(y): '))\n",
    "r.botx=float(input('Enter a number for rectangle bottom corner(x): '))\n",
    "r.boty=float(input('Enter a number for rectangle bottom corner(y): '))\n",
    "r.height=float(input('Enter a number for rectangle height: '))\n",
    "r.width=float(input('Enter a number for rectangle width: '))\n",
    "\n",
    "uplx=r.botx\n",
    "uply=r.boty+r.height\n",
    "botrx=r.botx+r.width\n",
    "botry=r.boty\n",
    "uprx=botrx\n",
    "upry=uply\n",
    "\n",
    "\n",
    "def point_in_circle(pointx,pointy):\n",
    "    if (pointx-circle.h)**2+(pointy-circle.k)**2<=circle.r**2:\n",
    "        return True\n",
    "    else:\n",
    "        return False\n",
    "    \n",
    "def rect_in_circle(uplx,uply,botrx,botry,uprx,upry):\n",
    "    if (r.botx-circle.h)**2+(r.boty-circle.k)**2<=circle.r**2 and (uplx-circle.h)**2+(uply-circle.k)**2<=circle.r**2 and (botrx-circle.h)**2+(botry-circle.k)**2<=circle.r**2 and (uprx-circle.h)**2+(upry-circle.k)**2<=circle.r**2:\n",
    "        return True\n",
    "    else:\n",
    "        return False    \n",
    "    \n",
    "def rect_circle_overlap(uplx,uply,botrx,botry,uprx,upry):\n",
    "    if (rectangle.botx-circle.h)**2+(rectangle.boty-circle.k)**2<=circle.r**2:\n",
    "        return True\n",
    "    elif (uplx-circle.h)**2+(uply-circle.k)**2<=circle.r**2:\n",
    "        return True\n",
    "    elif (botrx-circle.h)**2+(botry-circle.k)**2<=circle.r**2:\n",
    "        return True\n",
    "    elif (uprx-circle.h)**2+(upry-circle.k)**2<=circle.r**2:\n",
    "        return True\n",
    "    else:\n",
    "        return False\n",
    "    \n",
    " \n",
    "print('A.',end=' ')\n",
    "print(point_in_circle(p.pointx,p.pointy))\n",
    "print('B.',end=' ')\n",
    "print(rect_in_circle(uplx,uply,botrx,botry,uprx,upry))\n",
    "print('C.',end=' ')\n",
    "print(rect_circle_overlap(uplx,uply,botrx,botry,uprx,upry))\n",
    "\n",
    "\n",
    "\n"
   ]
  },
  {
   "cell_type": "code",
   "execution_count": null,
   "id": "1323c275",
   "metadata": {},
   "outputs": [],
   "source": []
  }
 ],
 "metadata": {
  "kernelspec": {
   "display_name": "Python 3 (ipykernel)",
   "language": "python",
   "name": "python3"
  },
  "language_info": {
   "codemirror_mode": {
    "name": "ipython",
    "version": 3
   },
   "file_extension": ".py",
   "mimetype": "text/x-python",
   "name": "python",
   "nbconvert_exporter": "python",
   "pygments_lexer": "ipython3",
   "version": "3.11.2"
  }
 },
 "nbformat": 4,
 "nbformat_minor": 5
}

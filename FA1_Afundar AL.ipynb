{
 "cells": [
  {
   "cell_type": "code",
   "execution_count": 7,
   "metadata": {},
   "outputs": [
    {
     "name": "stdout",
     "output_type": "stream",
     "text": [
      "Input kilometers 6142\n",
      "3814.91 Miles\n",
      "Average pace is 6 Minutes  53 Seconds\n",
      "Average speed is 8.73 Miles per hour\n"
     ]
    }
   ],
   "source": [
    "import math\n",
    "\n",
    "km = input(\"Input kilometers \")\n",
    "\n",
    "\n",
    "proportion= 6.21/2562\n",
    "\n",
    "\n",
    "mile = 1.61\n",
    "\n",
    "ans = float(km)/mile\n",
    "mile_sec= float(ans)/proportion\n",
    "mile_min= float(mile_sec)/60\n",
    "mile_hour= float(mile_min)/60\n",
    "\n",
    "print(\"%.2f\"%ans + \" Miles\")\n",
    "\n",
    "\n",
    "pace= float(mile_min)/ans\n",
    "pacetry= math.trunc(float(mile_min)/ans)\n",
    "\n",
    "pacesec= float(pace) - float(pacetry)\n",
    "\n",
    "pacesec= pacesec*60\n",
    "\n",
    "\n",
    "\n",
    "print(\"Average pace is \" + \"%.0f \"%pacetry + \"Minutes  \" + \"%.0f \"%pacesec + \"Seconds\")\n",
    "\n",
    "milesperhr = float(ans)/mile_hour\n",
    "\n",
    "\n",
    "print(\"Average speed is \"+\"%.2f\"%milesperhr + \" Miles per hour\")"
   ]
  },
  {
   "cell_type": "markdown",
   "metadata": {},
   "source": []
  }
 ],
 "metadata": {
  "kernelspec": {
   "display_name": "Python 3",
   "language": "python",
   "name": "python3"
  },
  "language_info": {
   "codemirror_mode": {
    "name": "ipython",
    "version": 3
   },
   "file_extension": ".py",
   "mimetype": "text/x-python",
   "name": "python",
   "nbconvert_exporter": "python",
   "pygments_lexer": "ipython3",
   "version": "3.7.0"
  }
 },
 "nbformat": 4,
 "nbformat_minor": 2
}

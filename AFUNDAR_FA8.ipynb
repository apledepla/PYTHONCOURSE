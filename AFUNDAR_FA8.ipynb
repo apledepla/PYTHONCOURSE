{
 "cells": [
  {
   "cell_type": "code",
   "execution_count": 173,
   "id": "08412a49",
   "metadata": {},
   "outputs": [
    {
     "name": "stdout",
     "output_type": "stream",
     "text": [
      "rank                       AssocProf   AsstProf        Prof\n",
      "Valid                         13.000     19.000      46.000\n",
      "Missing                        0.000      0.000       0.000\n",
      "Median                    103613.000  78500.000  123321.500\n",
      "Mean                       91786.231  81362.789  123624.804\n",
      "Std. Error of Mean          5150.720   2152.205    3663.975\n",
      "Std. Deviation             18571.184   9381.245   24850.288\n",
      "Coefficient of variation       0.202      0.115       0.201\n",
      "Skewness                      -0.151      0.031       0.070\n",
      "Std. Error of Skewness         0.616      0.524       0.350\n",
      "Kurtosis                      -1.614     -1.011       0.201\n",
      "Std. Error of Kurtosis         1.359      1.124       0.722\n",
      "Minimum                    62884.000  63100.000   57800.000\n",
      "Maximum                   119800.000  97032.000  186960.000\n",
      "25th Percentile            74830.000  74096.000  105112.500\n",
      "50th Percentile           103613.000  78500.000  123321.500\n",
      "75th Percentile           104542.000  91150.000  143512.250\n",
      "10th Percentile            71512.000  72500.000   93675.000\n",
      "20th Percentile            73912.000  73300.000  103275.000\n",
      "30th Percentile            76432.000  74832.800  108473.000\n",
      "40th Percentile            80528.000  77100.000  116450.000\n",
      "70th Percentile           104213.200  89800.000  135889.000\n",
      "80th Percentile           106021.600  91580.000  148750.000\n",
      "90th Percentile           109121.600  92000.000  154750.000\n"
     ]
    }
   ],
   "source": [
    "import pandas as pd\n",
    "import numpy as np\n",
    "\n",
    "df = pd.read_csv(\"https://raw.githubusercontent.com/Apress/data-analysis-and-visualization-using-python/master/Ch07/Salaries.csv\")\n",
    "\n",
    "\n",
    "m=df.groupby('rank')['salary'].min()\n",
    "n=df.groupby('rank')['salary'].max()\n",
    "v=df.groupby('rank')['salary'].mean()\n",
    "x = df.groupby('rank').apply(lambda x: x['salary'].isna().sum())\n",
    "y = df.groupby('rank')['salary'].skew()\n",
    "b=df.groupby('rank')['salary'].quantile(0.25)\n",
    "c=df.groupby('rank')['salary'].quantile(0.50)\n",
    "k=df.groupby('rank')['salary'].quantile(0.75)\n",
    "z=df.groupby('rank')['salary'].quantile(0.1)\n",
    "q=df.groupby('rank')['salary'].quantile(0.2)\n",
    "w=df.groupby('rank')['salary'].quantile(0.3)\n",
    "e=df.groupby('rank')['salary'].quantile(0.4)\n",
    "r=df.groupby('rank')['salary'].quantile(0.6)\n",
    "t=df.groupby('rank')['salary'].quantile(0.7)\n",
    "l=df.groupby('rank')['salary'].quantile(0.8)\n",
    "u=df.groupby('rank')['salary'].quantile(0.9)\n",
    "i=df.groupby('rank')['salary'].apply(lambda x: x.kurt())\n",
    "o=df.groupby('rank')['salary'].sem()#Std. Error of Mean\n",
    "g=df.groupby('rank')['salary'].std()\n",
    "p=g/df.groupby('rank')['salary'].mean()#Coefficient of variation\n",
    "size=df.groupby('rank')['salary'].count()\n",
    "h=np.sqrt(24/size)\n",
    "size_rounded = size.round(0).astype(int)\n",
    "a=np.sqrt((6*size*(size-1))/((size-2)*(size+1)*(size+3)))#Std. Error of Skewness\n",
    "s=df.groupby('rank')['salary'].median()\n",
    "\n",
    "result0=pd.concat([size.to_frame().rename(columns={'salary':'Valid'}),x.to_frame(name='Missing'),s.rename('Median')],axis=1)\n",
    "result=pd.concat([result0,v.to_frame().rename(columns={'salary':'Mean'}),o.to_frame().rename(columns={'salary':'Std. Error of Mean'}) ],axis=1)\n",
    "result1=pd.concat([result,g.to_frame().rename(columns={'salary':'Std. Deviation'}),p.to_frame().rename(columns={'salary':'Coefficient of variation'})], axis=1)\n",
    "result2=pd.concat([result1,y.to_frame().rename(columns={'salary':'Skewness'}),a.to_frame().rename(columns={'salary':'Std. Error of Skewness'})], axis=1)\n",
    "result3=pd.concat([result2,i.to_frame().rename(columns={'salary':'Kurtosis'}),h.to_frame().rename(columns={'salary':'Std. Error of Kurtosis'})], axis=1)\n",
    "result4=pd.concat([result3,m.to_frame().rename(columns={'salary':'Minimum'}),n.to_frame().rename(columns={'salary':'Maximum'})], axis=1)\n",
    "result5=pd.concat([result4,b.to_frame().rename(columns={'salary':'25th Percentile'}),c.to_frame().rename(columns={'salary':'50th Percentile'}),k.to_frame().rename(columns={'salary':'75th Percentile'})], axis=1)\n",
    "result6=pd.concat([result5,z.to_frame().rename(columns={'salary':'10th Percentile'}),q.to_frame().rename(columns={'salary':'20th Percentile'})], axis=1)\n",
    "result7=pd.concat([result6,w.to_frame().rename(columns={'salary':'30th Percentile'}),e.to_frame().rename(columns={'salary':'40th Percentile'})], axis=1)\n",
    "result8=pd.concat([result7,c.to_frame().rename(columns={'salary':'50th Percentile'}),r.to_frame().rename(columns={'salary':'60th Percentile'})], axis=1)\n",
    "result9=pd.concat([result7,t.to_frame().rename(columns={'salary':'70th Percentile'}),l.to_frame().rename(columns={'salary':'80th Percentile'}),u.to_frame().rename(columns={'salary':'90th Percentile'})], axis=1)\n",
    "resultT=result9.round(decimals=3)\n",
    "\n",
    "print(resultT.T)"
   ]
  },
  {
   "cell_type": "code",
   "execution_count": null,
   "id": "8e2bc258",
   "metadata": {},
   "outputs": [],
   "source": []
  }
 ],
 "metadata": {
  "kernelspec": {
   "display_name": "Python 3 (ipykernel)",
   "language": "python",
   "name": "python3"
  },
  "language_info": {
   "codemirror_mode": {
    "name": "ipython",
    "version": 3
   },
   "file_extension": ".py",
   "mimetype": "text/x-python",
   "name": "python",
   "nbconvert_exporter": "python",
   "pygments_lexer": "ipython3",
   "version": "3.11.2"
  }
 },
 "nbformat": 4,
 "nbformat_minor": 5
}

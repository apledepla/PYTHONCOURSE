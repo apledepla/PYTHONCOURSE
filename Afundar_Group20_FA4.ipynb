{
 "cells": [
  {
   "cell_type": "code",
   "execution_count": 20,
   "id": "34b2f244",
   "metadata": {},
   "outputs": [
    {
     "name": "stdout",
     "output_type": "stream",
     "text": [
      "Note: Input numbers only!\n",
      "Input number for first number: 2\n",
      "Input number for second number: 4\n",
      "11\n",
      "However, if a large number is inputed for m and n, it will reach maximum recursion depth and will not run\n"
     ]
    }
   ],
   "source": [
    "def ack(m,n):\n",
    "    if m==0:\n",
    "        return n+1\n",
    "    if m>0 and n==0:\n",
    "        return ack(m-1,1)\n",
    "    if m>0 and n>0:\n",
    "        return ack(m-1, ack(m,n-1))\n",
    "\n",
    "print(\"Note: Input numbers only!\")\n",
    "    \n",
    "v = int(input(\"Input number for first number: \"))\n",
    "b = int(input(\"Input number for second number: \"))\n",
    "\n",
    "print(ack(v,b))\n",
    "\n",
    "\n",
    "print(\"However, if a large number is inputed for m and n, it will reach maximum recursion depth and will not run\")"
   ]
  },
  {
   "cell_type": "code",
   "execution_count": 19,
   "id": "c09d10cc",
   "metadata": {},
   "outputs": [
    {
     "name": "stdout",
     "output_type": "stream",
     "text": [
      "Note: Input numbers only!\n",
      "Input number for first number: 0.04\n",
      "Input number for second number: 0.2\n",
      "True\n",
      "True\n",
      "True\n",
      "True\n",
      "False\n"
     ]
    }
   ],
   "source": [
    "import numpy\n",
    "\n",
    "def is_power(a,b):\n",
    "    if numpy.fmod(a,b)==0:\n",
    "        if a == b:\n",
    "            \n",
    "            return True\n",
    "        else:\n",
    "            return is_power(a/b,b)\n",
    "        \n",
    "    else:\n",
    "        if a % 1>0 or b%1>0:\n",
    "            if a==1:\n",
    "                return True\n",
    "            \n",
    "            elif a<b:\n",
    "                x=a*1000\n",
    "                y=b*1000\n",
    "                if y%x==0:\n",
    "                    return True\n",
    "                else:\n",
    "                    return False\n",
    "            else:\n",
    "                return is_power(a/b,b)\n",
    "    \n",
    "        else:\n",
    "            return False\n",
    "        \n",
    "       \n",
    "\n",
    "        \n",
    "            \n",
    "        \n",
    "        \n",
    "\n",
    "print(\"Note: Input numbers only!\")\n",
    "\n",
    "s = float(input(\"Input number for first number: \"))\n",
    "t = float(input(\"Input number for second number: \"))    \n",
    "    \n",
    "    \n",
    "print(is_power(s,t))\n",
    "print(is_power(64,2))\n",
    "print(is_power(2.25,1.5))\n",
    "print(is_power(10000,100))\n",
    "print(is_power(1001,10))"
   ]
  },
  {
   "cell_type": "code",
   "execution_count": null,
   "id": "6b04c658",
   "metadata": {},
   "outputs": [],
   "source": []
  },
  {
   "cell_type": "code",
   "execution_count": null,
   "id": "aa5d9a0f",
   "metadata": {},
   "outputs": [],
   "source": []
  }
 ],
 "metadata": {
  "kernelspec": {
   "display_name": "Python 3 (ipykernel)",
   "language": "python",
   "name": "python3"
  },
  "language_info": {
   "codemirror_mode": {
    "name": "ipython",
    "version": 3
   },
   "file_extension": ".py",
   "mimetype": "text/x-python",
   "name": "python",
   "nbconvert_exporter": "python",
   "pygments_lexer": "ipython3",
   "version": "3.11.1"
  }
 },
 "nbformat": 4,
 "nbformat_minor": 5
}

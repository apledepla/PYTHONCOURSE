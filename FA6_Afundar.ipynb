{
 "cells": [
  {
   "cell_type": "code",
   "execution_count": 44,
   "id": "f53022b0",
   "metadata": {},
   "outputs": [
    {
     "name": "stdout",
     "output_type": "stream",
     "text": [
      "Enter base: 4\n",
      "Enter exponent: 6\n",
      "4096.0\n",
      "Time taken:  0.0009984970092773438 seconds\n"
     ]
    }
   ],
   "source": [
    "import time\n",
    "#Question 1 RECURSIVE\n",
    "\n",
    "x=float(input(\"Enter base: \"))\n",
    "y=int(input(\"Enter exponent: \"))\n",
    "\n",
    "def recursive_exponent(x,y,z):\n",
    "    if y>1:\n",
    "        z=z*x\n",
    "        recursive_exponent(x,y-1,z)\n",
    "    else:\n",
    "        print(z)\n",
    "        \n",
    "start_time = time.time()   \n",
    "recursive_exponent(x,y,z=x)\n",
    "end_time = time.time()\n",
    "\n",
    "print(\"Time taken: \", end_time-start_time, \"seconds\")"
   ]
  },
  {
   "cell_type": "code",
   "execution_count": 48,
   "id": "8e04cbe4",
   "metadata": {},
   "outputs": [
    {
     "name": "stdout",
     "output_type": "stream",
     "text": [
      "Enter base: 4\n",
      "Enter exponent: 6\n",
      "4096.0\n",
      "Time taken:  0.0009968280792236328 seconds\n"
     ]
    }
   ],
   "source": [
    "#Question 1 ITERATIVE\n",
    "\n",
    "it_x=float(input(\"Enter base: \")) \n",
    "it_y=int(input(\"Enter exponent: \"))\n",
    "\n",
    "def iterative_exponent(it_x,it_y,it_z):\n",
    "    while it_y>1:\n",
    "        it_z=it_z*it_x\n",
    "        it_y=it_y-1\n",
    "    print(it_z)\n",
    "\n",
    "start_time = time.time()   \n",
    "iterative_exponent(it_x,it_y,it_z=it_x)\n",
    "end_time = time.time()\n",
    "\n",
    "print(\"Time taken: \", end_time-start_time, \"seconds\")"
   ]
  },
  {
   "cell_type": "code",
   "execution_count": 54,
   "id": "4ff8cfc3",
   "metadata": {},
   "outputs": [
    {
     "name": "stdout",
     "output_type": "stream",
     "text": [
      "Iterative function is faster than recursive function since the recursive calls a function to perform a loop and in which return cost a much larger memory than iterative\n"
     ]
    }
   ],
   "source": [
    "print(\"Iterative function is faster than recursive function since the recursive calls a function to perform a loop and in which return cost a much larger memory than iterative\")"
   ]
  },
  {
   "cell_type": "code",
   "execution_count": 49,
   "id": "78539720",
   "metadata": {},
   "outputs": [
    {
     "name": "stdout",
     "output_type": "stream",
     "text": [
      "Enter number: 20\n",
      "2097151\n",
      "Time taken:  0.0009000301361083984 seconds\n"
     ]
    }
   ],
   "source": [
    "#Question 2 ITERATIVE\n",
    "\n",
    "exponent=int(input(\"Enter number: \"))\n",
    "\n",
    "start_time=time.time()\n",
    "def iterative(exponent, holder):\n",
    "    for i in range(exponent+1):\n",
    "        holder=holder+2**i\n",
    "    end_time = time.time()  \n",
    "    print(holder)\n",
    "    render_time=end_time-start_time\n",
    "    print(\"Time taken: \", end_time-start_time, \"seconds\")\n",
    "    \n",
    "    \n",
    "iterative(exponent, holder=0)"
   ]
  },
  {
   "cell_type": "code",
   "execution_count": 51,
   "id": "b7fe303c",
   "metadata": {},
   "outputs": [
    {
     "name": "stdout",
     "output_type": "stream",
     "text": [
      "Enter number: 20\n",
      "2097151\n",
      "Time taken:  0.0010018348693847656 seconds\n"
     ]
    }
   ],
   "source": [
    "#Question 2 RECURSION\n",
    "\n",
    "exponent=int(input(\"Enter number: \"))\n",
    "\n",
    "start_time=time.time()\n",
    "\n",
    "def recursive(exponent,holder,n):\n",
    "    if exponent+1==n:\n",
    "        end_time=time.time()\n",
    "        print(holder)\n",
    "        render_time=end_time-start_time\n",
    "        print(\"Time taken: \", end_time-start_time, \"seconds\")\n",
    "    else:\n",
    "        holder=holder+2**n\n",
    "        recursive(exponent,holder,n+1)\n",
    "        \n",
    "recursive(exponent, holder=0, n=0)"
   ]
  },
  {
   "cell_type": "code",
   "execution_count": 53,
   "id": "ad0cbbdb",
   "metadata": {},
   "outputs": [
    {
     "name": "stdout",
     "output_type": "stream",
     "text": [
      "With this, iterative is faster since recursive calls and needs far more memory thus limiting the speed time. However, recursion is far more efficient than iteration in some scenarios but in trade with speed of result\n"
     ]
    }
   ],
   "source": [
    "print(\"With this, iterative is faster since recursive calls and needs far more memory thus limiting the speed time. However, recursion is far more efficient than iteration in some scenarios but in trade with speed of result\")"
   ]
  },
  {
   "cell_type": "code",
   "execution_count": null,
   "id": "960aabe2",
   "metadata": {},
   "outputs": [],
   "source": []
  }
 ],
 "metadata": {
  "kernelspec": {
   "display_name": "Python 3 (ipykernel)",
   "language": "python",
   "name": "python3"
  },
  "language_info": {
   "codemirror_mode": {
    "name": "ipython",
    "version": 3
   },
   "file_extension": ".py",
   "mimetype": "text/x-python",
   "name": "python",
   "nbconvert_exporter": "python",
   "pygments_lexer": "ipython3",
   "version": "3.11.2"
  }
 },
 "nbformat": 4,
 "nbformat_minor": 5
}
